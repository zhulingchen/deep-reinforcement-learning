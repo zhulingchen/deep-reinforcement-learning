{
 "cells": [
  {
   "cell_type": "markdown",
   "metadata": {},
   "source": [
    "# Collaboration and Competition\n",
    "\n",
    "---\n",
    "\n",
    "In this notebook, you will learn how to use the Unity ML-Agents environment for the third project of the [Deep Reinforcement Learning Nanodegree](https://www.udacity.com/course/deep-reinforcement-learning-nanodegree--nd893) program.\n",
    "\n",
    "### 1. Start the Environment\n",
    "\n",
    "We begin by importing the necessary packages.  If the code cell below returns an error, please revisit the project instructions to double-check that you have installed [Unity ML-Agents](https://github.com/Unity-Technologies/ml-agents/blob/master/docs/Installation.md) and [NumPy](http://www.numpy.org/)."
   ]
  },
  {
   "cell_type": "code",
   "execution_count": 1,
   "metadata": {},
   "outputs": [
    {
     "name": "stdout",
     "output_type": "stream",
     "text": [
      "PyTorch Version: 1.0.0\n"
     ]
    }
   ],
   "source": [
    "import os\n",
    "from unityagents import UnityEnvironment\n",
    "import numpy as np\n",
    "import random\n",
    "import torch\n",
    "print('PyTorch Version:', torch.__version__)\n",
    "from torchsummary import summary\n",
    "from collections import deque\n",
    "import matplotlib.pyplot as plt\n",
    "%matplotlib inline\n",
    "plt.ion()"
   ]
  },
  {
   "cell_type": "markdown",
   "metadata": {},
   "source": [
    "Next, we will start the environment!  **_Before running the code cell below_**, change the `file_name` parameter to match the location of the Unity environment that you downloaded.\n",
    "\n",
    "- **Mac**: `\"path/to/Tennis.app\"`\n",
    "- **Windows** (x86): `\"path/to/Tennis_Windows_x86/Tennis.exe\"`\n",
    "- **Windows** (x86_64): `\"path/to/Tennis_Windows_x86_64/Tennis.exe\"`\n",
    "- **Linux** (x86): `\"path/to/Tennis_Linux/Tennis.x86\"`\n",
    "- **Linux** (x86_64): `\"path/to/Tennis_Linux/Tennis.x86_64\"`\n",
    "- **Linux** (x86, headless): `\"path/to/Tennis_Linux_NoVis/Tennis.x86\"`\n",
    "- **Linux** (x86_64, headless): `\"path/to/Tennis_Linux_NoVis/Tennis.x86_64\"`\n",
    "\n",
    "For instance, if you are using a Mac, then you downloaded `Tennis.app`.  If this file is in the same folder as the notebook, then the line below should appear as follows:\n",
    "```\n",
    "env = UnityEnvironment(file_name=\"Tennis.app\")\n",
    "```"
   ]
  },
  {
   "cell_type": "code",
   "execution_count": 2,
   "metadata": {},
   "outputs": [
    {
     "name": "stderr",
     "output_type": "stream",
     "text": [
      "INFO:unityagents:\n",
      "'Academy' started successfully!\n",
      "Unity Academy name: Academy\n",
      "        Number of Brains: 1\n",
      "        Number of External Brains : 1\n",
      "        Lesson number : 0\n",
      "        Reset Parameters :\n",
      "\t\t\n",
      "Unity brain name: TennisBrain\n",
      "        Number of Visual Observations (per agent): 0\n",
      "        Vector Observation space type: continuous\n",
      "        Vector Observation space size (per agent): 8\n",
      "        Number of stacked Vector Observation: 3\n",
      "        Vector Action space type: continuous\n",
      "        Vector Action space size (per agent): 2\n",
      "        Vector Action descriptions: , \n"
     ]
    }
   ],
   "source": [
    "env = UnityEnvironment(file_name=os.path.normpath(\"./Tennis_Linux_NoVis/Tennis.x86_64\"))"
   ]
  },
  {
   "cell_type": "markdown",
   "metadata": {},
   "source": [
    "Environments contain **_brains_** which are responsible for deciding the actions of their associated agents. Here we check for the first brain available, and set it as the default brain we will be controlling from Python."
   ]
  },
  {
   "cell_type": "code",
   "execution_count": 3,
   "metadata": {},
   "outputs": [],
   "source": [
    "# get the default brain\n",
    "brain_name = env.brain_names[0]\n",
    "brain = env.brains[brain_name]"
   ]
  },
  {
   "cell_type": "markdown",
   "metadata": {},
   "source": [
    "### 2. Examine the State and Action Spaces\n",
    "\n",
    "In this environment, two agents control rackets to bounce a ball over a net. If an agent hits the ball over the net, it receives a reward of +0.1.  If an agent lets a ball hit the ground or hits the ball out of bounds, it receives a reward of -0.01.  Thus, the goal of each agent is to keep the ball in play.\n",
    "\n",
    "The observation space consists of 8 variables corresponding to the position and velocity of the ball and racket. Two continuous actions are available, corresponding to movement toward (or away from) the net, and jumping. \n",
    "\n",
    "Run the code cell below to print some information about the environment."
   ]
  },
  {
   "cell_type": "code",
   "execution_count": 4,
   "metadata": {},
   "outputs": [
    {
     "name": "stdout",
     "output_type": "stream",
     "text": [
      "Number of agents: 2\n",
      "Size of each action: 2\n",
      "There are 2 agents. Each observes a state with length: 24\n",
      "The state for the first agent looks like: [ 0.          0.          0.          0.          0.          0.\n",
      "  0.          0.          0.          0.          0.          0.\n",
      "  0.          0.          0.          0.         -6.65278625 -1.5\n",
      " -0.          0.          6.83172083  6.         -0.          0.        ]\n",
      "The state for the second agent looks like: [ 0.          0.          0.          0.          0.          0.\n",
      "  0.          0.          0.          0.          0.          0.\n",
      "  0.          0.          0.          0.         -6.4669857  -1.5\n",
      "  0.          0.         -6.83172083  6.          0.          0.        ]\n"
     ]
    }
   ],
   "source": [
    "# reset the environment\n",
    "env_info = env.reset(train_mode=True)[brain_name]\n",
    "\n",
    "# number of agents \n",
    "num_agents = len(env_info.agents)\n",
    "print('Number of agents:', num_agents)\n",
    "\n",
    "# size of each action\n",
    "action_size = brain.vector_action_space_size\n",
    "print('Size of each action:', action_size)\n",
    "\n",
    "# examine the state space \n",
    "states = env_info.vector_observations\n",
    "state_size = states.shape[1]\n",
    "print('There are {} agents. Each observes a state with length: {}'.format(states.shape[0], state_size))\n",
    "print('The state for the first agent looks like:', states[0])\n",
    "print('The state for the second agent looks like:', states[1])"
   ]
  },
  {
   "cell_type": "markdown",
   "metadata": {},
   "source": [
    "### 3. Take Random Actions in the Environment\n",
    "\n",
    "In the next code cell, you will learn how to use the Python API to control the agents and receive feedback from the environment.\n",
    "\n",
    "Once this cell is executed, you will watch the agents' performance, if they select actions at random with each time step.  A window should pop up that allows you to observe the agents.\n",
    "\n",
    "Of course, as part of the project, you'll have to change the code so that the agents are able to use their experiences to gradually choose better actions when interacting with the environment!"
   ]
  },
  {
   "cell_type": "code",
   "execution_count": 5,
   "metadata": {},
   "outputs": [
    {
     "name": "stdout",
     "output_type": "stream",
     "text": [
      "Score (max over agents) from episode 1: 0.00\n",
      "Score (max over agents) from episode 2: 0.00\n",
      "Score (max over agents) from episode 3: 0.00\n",
      "Score (max over agents) from episode 4: 0.00\n",
      "Score (max over agents) from episode 5: 0.00\n"
     ]
    }
   ],
   "source": [
    "for i in range(1, 6):                                      # play game for 5 episodes\n",
    "    env_info = env.reset(train_mode=False)[brain_name]     # reset the environment    \n",
    "    states = env_info.vector_observations                  # get the current state (for each agent)\n",
    "    scores = np.zeros(num_agents)                          # initialize the score (for each agent)\n",
    "    while True:\n",
    "        actions = np.random.randn(num_agents, action_size) # select an action (for each agent)\n",
    "        actions = np.clip(actions, -1, 1)                  # all actions between -1 and 1\n",
    "        env_info = env.step(actions)[brain_name]           # send all actions to tne environment\n",
    "        next_states = env_info.vector_observations         # get next state (for each agent)\n",
    "        rewards = env_info.rewards                         # get reward (for each agent)\n",
    "        dones = env_info.local_done                        # see if episode finished\n",
    "        scores += env_info.rewards                         # update the score (for each agent)\n",
    "        states = next_states                               # roll over states to next time step\n",
    "        if np.any(dones):                                  # exit loop if episode finished\n",
    "            break\n",
    "    print('Score (max over agents) from episode {}: {:.2f}'.format(i, np.max(scores)))"
   ]
  },
  {
   "cell_type": "markdown",
   "metadata": {},
   "source": [
    "When finished, you can close the environment."
   ]
  },
  {
   "cell_type": "markdown",
   "metadata": {},
   "source": [
    "```python\n",
    "env.close()\n",
    "```"
   ]
  },
  {
   "cell_type": "markdown",
   "metadata": {},
   "source": [
    "### 4. Train Deep Deterministic Policy Gradients (DDPG) agents"
   ]
  },
  {
   "cell_type": "markdown",
   "metadata": {},
   "source": [
    "#### Define the agent training function"
   ]
  },
  {
   "cell_type": "code",
   "execution_count": 6,
   "metadata": {},
   "outputs": [],
   "source": [
    "def train_ddpg(env, agent_a, agent_b,\n",
    "               save_model_a_actor, save_model_a_critic, save_model_b_actor, save_model_b_critic,\n",
    "               n_episodes=5000, eps_start=1.0, eps_end=0.05, eps_decay=1e-5,\n",
    "               deque_len=100, print_every=100, finish_threshold=0.5):\n",
    "    \"\"\"Deep Deterministic Policy Gradients (DDPG)\n",
    "    \n",
    "    Params\n",
    "    ======\n",
    "        env: environment\n",
    "        agent_a: DDPG agent (a)\n",
    "        agent_b: DDPG agent (b)\n",
    "        save_model_a_actor: actor (a) model filename for saving\n",
    "        save_model_a_critic: critic (a) model filename for saving\n",
    "        save_model_b_actor: actor (b) model filename for saving\n",
    "        save_model_b_critic: critic (b) model filename for saving\n",
    "        n_episodes (int): maximum number of training episodes\n",
    "        eps_start (float): starting value of epsilon, for epsilon-greedy action selection\n",
    "        eps_end (float): minimum value of epsilon\n",
    "        eps_decay (float): subtractive factor (per step) for decreasing epsilon\n",
    "        deque_len (int): length of score deque\n",
    "        print_every (int): print a new line of scores after such number of episodes\n",
    "        finish_threshold (float): the training process will finish if the average score is larger than such threshold\n",
    "    \"\"\"\n",
    "    scores_deque = deque(maxlen=deque_len)\n",
    "    scores_mean = []\n",
    "    scores_movingmean = []\n",
    "    eps = eps_start\n",
    "    for i_episode in range(1, n_episodes+1):\n",
    "        env_info = env.reset(train_mode=True)[brain_name]\n",
    "        states = env_info.vector_observations\n",
    "        agent_a.reset()\n",
    "        agent_b.reset()\n",
    "        scores = np.zeros(num_agents)\n",
    "        step = 0\n",
    "        while True:\n",
    "            step += 1\n",
    "            use_noise = (random.random() <= eps)\n",
    "            states_a = np.expand_dims(states[0], 0)\n",
    "            states_b = np.expand_dims(states[1], 0)\n",
    "            actions_a = agent_a.act(states_a, add_noise=use_noise)\n",
    "            actions_b = agent_b.act(states_b, add_noise=use_noise)\n",
    "            actions = np.vstack([actions_a, actions_b])\n",
    "            eps = max(eps - eps_decay, eps_end)\n",
    "            env_info = env.step(actions)[brain_name]\n",
    "            next_states = env_info.vector_observations\n",
    "            next_states_a = np.expand_dims(next_states[0], 0)\n",
    "            next_states_b = np.expand_dims(next_states[1], 0)\n",
    "            rewards = env_info.rewards\n",
    "            dones = env_info.local_done\n",
    "            agent_a.step(states_a, actions_a, [rewards[0]], next_states_a, [dones[0]])\n",
    "            agent_b.step(states_b, actions_b, [rewards[1]], next_states_b, [dones[1]])\n",
    "            states = next_states\n",
    "            scores += rewards\n",
    "            if np.any(dones):\n",
    "                break \n",
    "        scores_deque.append(scores)\n",
    "        scores_mean.append(np.mean(scores))\n",
    "        scores_movingmean.append(np.mean(scores_deque))\n",
    "        print('\\rEpisode {}:\\tMoving average score: {:.4f}\\tMean score: {:.3f} (A score: {:.2f}, B score: {:.2f})'.format(\n",
    "            i_episode, scores_movingmean[-1], scores_mean[-1], scores[0], scores[1]), end=\"\")\n",
    "        if i_episode % print_every == 0:\n",
    "            print('\\rEpisode {}:\\tMoving average score: {:.4f}'.format(i_episode, scores_movingmean[-1]))  \n",
    "        if scores_movingmean[-1] >= finish_threshold:  # save the model\n",
    "            print('\\nEnvironment solved in {:d} episodes!\\tMoving average score: {:.4f}'.format(i_episode-deque_len, scores_movingmean[-1]))\n",
    "            torch.save(agent_a.actor_local.state_dict(), save_model_a_actor)\n",
    "            torch.save(agent_a.critic_local.state_dict(), save_model_a_critic)\n",
    "            torch.save(agent_b.actor_local.state_dict(), save_model_b_actor)\n",
    "            torch.save(agent_b.critic_local.state_dict(), save_model_b_critic)\n",
    "            break\n",
    "             \n",
    "    return scores_mean, scores_movingmean"
   ]
  },
  {
   "cell_type": "markdown",
   "metadata": {},
   "source": [
    "### 5. DDPG training with Experience Replay"
   ]
  },
  {
   "cell_type": "markdown",
   "metadata": {},
   "source": [
    "#### 5.1. Train the agent"
   ]
  },
  {
   "cell_type": "code",
   "execution_count": 7,
   "metadata": {},
   "outputs": [
    {
     "name": "stdout",
     "output_type": "stream",
     "text": [
      "Actor (a) network:\n",
      "----------------------------------------------------------------\n",
      "        Layer (type)               Output Shape         Param #\n",
      "================================================================\n",
      "            Linear-1                  [-1, 400]          10,000\n",
      "       BatchNorm1d-2                  [-1, 400]             800\n",
      "            Linear-3                  [-1, 300]         120,300\n",
      "            Linear-4                    [-1, 2]             602\n",
      "================================================================\n",
      "Total params: 131,702\n",
      "Trainable params: 131,702\n",
      "Non-trainable params: 0\n",
      "----------------------------------------------------------------\n",
      "Input size (MB): 0.00\n",
      "Forward/backward pass size (MB): 0.01\n",
      "Params size (MB): 0.50\n",
      "Estimated Total Size (MB): 0.51\n",
      "----------------------------------------------------------------\n",
      "\n",
      "Critic (a) network:\n",
      "----------------------------------------------------------------\n",
      "        Layer (type)               Output Shape         Param #\n",
      "================================================================\n",
      "            Linear-1                  [-1, 400]          10,000\n",
      "       BatchNorm1d-2                  [-1, 400]             800\n",
      "            Linear-3                  [-1, 300]         120,900\n",
      "            Linear-4                    [-1, 1]             301\n",
      "================================================================\n",
      "Total params: 132,001\n",
      "Trainable params: 132,001\n",
      "Non-trainable params: 0\n",
      "----------------------------------------------------------------\n",
      "Input size (MB): 0.00\n",
      "Forward/backward pass size (MB): 0.01\n",
      "Params size (MB): 0.50\n",
      "Estimated Total Size (MB): 0.51\n",
      "----------------------------------------------------------------\n",
      "Actor (b) network:\n",
      "----------------------------------------------------------------\n",
      "        Layer (type)               Output Shape         Param #\n",
      "================================================================\n",
      "            Linear-1                  [-1, 400]          10,000\n",
      "       BatchNorm1d-2                  [-1, 400]             800\n",
      "            Linear-3                  [-1, 300]         120,300\n",
      "            Linear-4                    [-1, 2]             602\n",
      "================================================================\n",
      "Total params: 131,702\n",
      "Trainable params: 131,702\n",
      "Non-trainable params: 0\n",
      "----------------------------------------------------------------\n",
      "Input size (MB): 0.00\n",
      "Forward/backward pass size (MB): 0.01\n",
      "Params size (MB): 0.50\n",
      "Estimated Total Size (MB): 0.51\n",
      "----------------------------------------------------------------\n",
      "\n",
      "Critic (b) network:\n",
      "----------------------------------------------------------------\n",
      "        Layer (type)               Output Shape         Param #\n",
      "================================================================\n",
      "            Linear-1                  [-1, 400]          10,000\n",
      "       BatchNorm1d-2                  [-1, 400]             800\n",
      "            Linear-3                  [-1, 300]         120,900\n",
      "            Linear-4                    [-1, 1]             301\n",
      "================================================================\n",
      "Total params: 132,001\n",
      "Trainable params: 132,001\n",
      "Non-trainable params: 0\n",
      "----------------------------------------------------------------\n",
      "Input size (MB): 0.00\n",
      "Forward/backward pass size (MB): 0.01\n",
      "Params size (MB): 0.50\n",
      "Estimated Total Size (MB): 0.51\n",
      "----------------------------------------------------------------\n",
      "Episode 100:\tMoving average score: -0.0035\tMean score: -0.005 (A score: -0.01, B score: 0.00)\n",
      "Episode 200:\tMoving average score: 0.0125\tMean score: 0.045 (A score: 0.00, B score: 0.09))))\n",
      "Episode 300:\tMoving average score: 0.0334\tMean score: 0.045 (A score: 0.00, B score: 0.09)))\n",
      "Episode 400:\tMoving average score: 0.0305\tMean score: -0.005 (A score: 0.00, B score: -0.01)\n",
      "Episode 500:\tMoving average score: 0.0340\tMean score: 0.045 (A score: 0.10, B score: -0.01))\n",
      "Episode 600:\tMoving average score: 0.0415\tMean score: 0.045 (A score: 0.10, B score: -0.01))\n",
      "Episode 700:\tMoving average score: 0.0360\tMean score: 0.045 (A score: 0.10, B score: -0.01))\n",
      "Episode 800:\tMoving average score: 0.0400\tMean score: 0.045 (A score: 0.10, B score: -0.01))\n",
      "Episode 900:\tMoving average score: 0.0394\tMean score: -0.005 (A score: 0.00, B score: -0.01)\n",
      "Episode 1000:\tMoving average score: 0.0555\tMean score: 0.045 (A score: 0.10, B score: -0.01)\n",
      "Episode 1100:\tMoving average score: 0.0535\tMean score: 0.045 (A score: 0.10, B score: -0.01))\n",
      "Episode 1200:\tMoving average score: 0.0720\tMean score: 0.045 (A score: 0.10, B score: -0.01))\n",
      "Episode 1300:\tMoving average score: 0.0780\tMean score: -0.005 (A score: -0.01, B score: 0.00)\n",
      "Episode 1400:\tMoving average score: 0.0985\tMean score: 0.095 (A score: 0.10, B score: 0.09)))\n",
      "Episode 1500:\tMoving average score: 0.1355\tMean score: 0.045 (A score: 0.10, B score: -0.01))\n",
      "Episode 1600:\tMoving average score: 0.2445\tMean score: 0.345 (A score: 0.30, B score: 0.39)1)\n",
      "Episode 1689:\tMoving average score: 0.5131\tMean score: 2.600 (A score: 2.60, B score: 2.60)1)\n",
      "Environment solved in 1589 episodes!\tMoving average score: 0.5131\n"
     ]
    }
   ],
   "source": [
    "from agent_ddpg import Agent\n",
    "\n",
    "agent_a_ddpg = Agent(1, state_size, action_size, random_seed=0, use_per=False)\n",
    "agent_b_ddpg = Agent(1, state_size, action_size, random_seed=0, use_per=False)\n",
    "\n",
    "# print the network summary\n",
    "print('Actor (a) network:')\n",
    "summary(agent_a_ddpg.actor_local, (state_size,))\n",
    "print('\\nCritic (a) network:')\n",
    "summary(agent_a_ddpg.critic_local, [(state_size,), (action_size,)])\n",
    "print('Actor (b) network:')\n",
    "summary(agent_b_ddpg.actor_local, (state_size,))\n",
    "print('\\nCritic (b) network:')\n",
    "summary(agent_b_ddpg.critic_local, [(state_size,), (action_size,)])\n",
    "\n",
    "scores_ddpg_mean, scores_ddpg_movingmean = train_ddpg(env, agent_a_ddpg, agent_b_ddpg,\n",
    "                                                      'model_actor_a_ddpg.pt', 'model_critic_a_ddpg.pt',\n",
    "                                                      'model_actor_b_ddpg.pt', 'model_critic_b_ddpg.pt')"
   ]
  },
  {
   "cell_type": "markdown",
   "metadata": {},
   "source": [
    "#### 5.2. Test the trained DDPG agent"
   ]
  },
  {
   "cell_type": "code",
   "execution_count": 8,
   "metadata": {},
   "outputs": [
    {
     "name": "stdout",
     "output_type": "stream",
     "text": [
      "Scores from episode 1: 0.045 (A score: 0.10, B score: -0.01)\n",
      "Scores from episode 2: 2.600 (A score: 2.60, B score: 2.60)\n",
      "Scores from episode 3: 0.145 (A score: 0.09, B score: 0.20)\n",
      "Scores from episode 4: 2.600 (A score: 2.60, B score: 2.60)\n",
      "Scores from episode 5: 0.145 (A score: 0.10, B score: 0.19)\n"
     ]
    }
   ],
   "source": [
    "# load the weights from the saved checkpoint files\n",
    "agent_a_ddpg.actor_local.load_state_dict(torch.load('model_actor_a_ddpg.pt'))\n",
    "agent_a_ddpg.critic_local.load_state_dict(torch.load('model_critic_a_ddpg.pt'))\n",
    "agent_b_ddpg.actor_local.load_state_dict(torch.load('model_actor_b_ddpg.pt'))\n",
    "agent_b_ddpg.critic_local.load_state_dict(torch.load('model_critic_b_ddpg.pt'))\n",
    "\n",
    "# test the trained agent\n",
    "for i in range(1, 6):\n",
    "    env_info = env.reset(train_mode=False)[brain_name]\n",
    "    states = env_info.vector_observations\n",
    "    scores = np.zeros(num_agents)\n",
    "    step = 0\n",
    "    while True:\n",
    "        step += 1\n",
    "        states_a = np.expand_dims(states[0], 0)\n",
    "        states_b = np.expand_dims(states[1], 0)\n",
    "        actions_a = agent_a_ddpg.act(states_a, add_noise=False)\n",
    "        actions_b = agent_b_ddpg.act(states_b, add_noise=False)\n",
    "        actions = np.vstack([actions_a, actions_b])\n",
    "        env_info = env.step(actions)[brain_name]\n",
    "        next_states = env_info.vector_observations\n",
    "        rewards = env_info.rewards\n",
    "        dones = env_info.local_done\n",
    "        scores += env_info.rewards\n",
    "        states = next_states\n",
    "        if np.any(dones):\n",
    "            break\n",
    "    print('Scores from episode {}: {:.3f} (A score: {:.2f}, B score: {:.2f})'.format(i, np.mean(scores), scores[0], scores[1]))"
   ]
  },
  {
   "cell_type": "markdown",
   "metadata": {},
   "source": [
    "### Comparing the mean score curves"
   ]
  },
  {
   "cell_type": "code",
   "execution_count": 9,
   "metadata": {},
   "outputs": [
    {
     "data": {
      "image/png": "[encoded data removed]",
      "text/plain": [
       "<Figure size 432x288 with 1 Axes>"
      ]
     },
     "metadata": {
      "needs_background": "light"
     },
     "output_type": "display_data"
    }
   ],
   "source": [
    "plt.figure()\n",
    "plt.plot(np.arange(1, len(scores_ddpg_mean)+1), scores_ddpg_mean,\n",
    "         label='average scores')\n",
    "plt.plot(np.arange(1, len(scores_ddpg_movingmean)+1), scores_ddpg_movingmean,\n",
    "         label='moving average scores')\n",
    "plt.legend()\n",
    "plt.ylabel('Score')\n",
    "plt.xlabel('Episode #')\n",
    "plt.title('Deep Deterministic Policy Gradients (DDPG)')\n",
    "plt.show()"
   ]
  },
  {
   "cell_type": "markdown",
   "metadata": {},
   "source": [
    "### Close the environment"
   ]
  },
  {
   "cell_type": "code",
   "execution_count": 10,
   "metadata": {},
   "outputs": [],
   "source": [
    "env.close()"
   ]
  }
 ],
 "metadata": {
  "kernelspec": {
   "display_name": "Python 3",
   "language": "python",
   "name": "python3"
  },
  "language_info": {
   "codemirror_mode": {
    "name": "ipython",
    "version": 3
   },
   "file_extension": ".py",
   "mimetype": "text/x-python",
   "name": "python",
   "nbconvert_exporter": "python",
   "pygments_lexer": "ipython3",
   "version": "3.6.10"
  }
 },
 "nbformat": 4,
 "nbformat_minor": 2
}

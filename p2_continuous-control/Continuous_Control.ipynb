{
 "cells": [
  {
   "cell_type": "markdown",
   "metadata": {},
   "source": [
    "# Continuous Control\n",
    "\n",
    "---\n",
    "\n",
    "In this notebook, you will learn how to use the Unity ML-Agents environment for the second project of the [Deep Reinforcement Learning Nanodegree](https://www.udacity.com/course/deep-reinforcement-learning-nanodegree--nd893) program.\n",
    "\n",
    "### 1. Start the Environment\n",
    "\n",
    "We begin by importing the necessary packages.  If the code cell below returns an error, please revisit the project instructions to double-check that you have installed [Unity ML-Agents](https://github.com/Unity-Technologies/ml-agents/blob/master/docs/Installation.md) and [NumPy](http://www.numpy.org/)."
   ]
  },
  {
   "cell_type": "code",
   "execution_count": 1,
   "metadata": {},
   "outputs": [
    {
     "name": "stdout",
     "output_type": "stream",
     "text": [
      "PyTorch Version: 1.0.0\n"
     ]
    }
   ],
   "source": [
    "import os\n",
    "from unityagents import UnityEnvironment\n",
    "import numpy as np\n",
    "import random\n",
    "import torch\n",
    "print('PyTorch Version:', torch.__version__)\n",
    "from torchsummary import summary\n",
    "from collections import deque\n",
    "import matplotlib.pyplot as plt\n",
    "%matplotlib inline\n",
    "plt.ion()"
   ]
  },
  {
   "cell_type": "markdown",
   "metadata": {},
   "source": [
    "Next, we will start the environment!  **_Before running the code cell below_**, change the `file_name` parameter to match the location of the Unity environment that you downloaded.\n",
    "\n",
    "- **Mac**: `\"path/to/Reacher.app\"`\n",
    "- **Windows** (x86): `\"path/to/Reacher_Windows_x86/Reacher.exe\"`\n",
    "- **Windows** (x86_64): `\"path/to/Reacher_Windows_x86_64/Reacher.exe\"`\n",
    "- **Linux** (x86): `\"path/to/Reacher_Linux/Reacher.x86\"`\n",
    "- **Linux** (x86_64): `\"path/to/Reacher_Linux/Reacher.x86_64\"`\n",
    "- **Linux** (x86, headless): `\"path/to/Reacher_Linux_NoVis/Reacher.x86\"`\n",
    "- **Linux** (x86_64, headless): `\"path/to/Reacher_Linux_NoVis/Reacher.x86_64\"`\n",
    "\n",
    "For instance, if you are using a Mac, then you downloaded `Reacher.app`.  If this file is in the same folder as the notebook, then the line below should appear as follows:\n",
    "```\n",
    "env = UnityEnvironment(file_name=\"Reacher.app\")\n",
    "```"
   ]
  },
  {
   "cell_type": "code",
   "execution_count": 2,
   "metadata": {},
   "outputs": [
    {
     "name": "stderr",
     "output_type": "stream",
     "text": [
      "INFO:unityagents:\n",
      "'Academy' started successfully!\n",
      "Unity Academy name: Academy\n",
      "        Number of Brains: 1\n",
      "        Number of External Brains : 1\n",
      "        Lesson number : 0\n",
      "        Reset Parameters :\n",
      "\t\tgoal_speed -> 1.0\n",
      "\t\tgoal_size -> 5.0\n",
      "Unity brain name: ReacherBrain\n",
      "        Number of Visual Observations (per agent): 0\n",
      "        Vector Observation space type: continuous\n",
      "        Vector Observation space size (per agent): 33\n",
      "        Number of stacked Vector Observation: 1\n",
      "        Vector Action space type: continuous\n",
      "        Vector Action space size (per agent): 4\n",
      "        Vector Action descriptions: , , , \n"
     ]
    }
   ],
   "source": [
    "env = UnityEnvironment(file_name=os.path.normpath(\"./twenty_agents/Reacher_Linux_NoVis/Reacher.x86_64\"))"
   ]
  },
  {
   "cell_type": "markdown",
   "metadata": {},
   "source": [
    "Environments contain **_brains_** which are responsible for deciding the actions of their associated agents. Here we check for the first brain available, and set it as the default brain we will be controlling from Python."
   ]
  },
  {
   "cell_type": "code",
   "execution_count": 3,
   "metadata": {},
   "outputs": [],
   "source": [
    "# get the default brain\n",
    "brain_name = env.brain_names[0]\n",
    "brain = env.brains[brain_name]"
   ]
  },
  {
   "cell_type": "markdown",
   "metadata": {},
   "source": [
    "### 2. Examine the State and Action Spaces\n",
    "\n",
    "In this environment, a double-jointed arm can move to target locations. A reward of `+0.1` is provided for each step that the agent's hand is in the goal location. Thus, the goal of your agent is to maintain its position at the target location for as many time steps as possible.\n",
    "\n",
    "The observation space consists of `33` variables corresponding to position, rotation, velocity, and angular velocities of the arm.  Each action is a vector with four numbers, corresponding to torque applicable to two joints.  Every entry in the action vector must be a number between `-1` and `1`.\n",
    "\n",
    "Run the code cell below to print some information about the environment."
   ]
  },
  {
   "cell_type": "code",
   "execution_count": 4,
   "metadata": {},
   "outputs": [
    {
     "name": "stdout",
     "output_type": "stream",
     "text": [
      "Number of agents: 20\n",
      "Size of each action: 4\n",
      "States is of type:  <class 'numpy.ndarray'>\n",
      "There are 20 agents. Each observes a state with length: 33\n",
      "The state for the first agent looks like: [ 0.00000000e+00 -4.00000000e+00  0.00000000e+00  1.00000000e+00\n",
      " -0.00000000e+00 -0.00000000e+00 -4.37113883e-08  0.00000000e+00\n",
      "  0.00000000e+00  0.00000000e+00  0.00000000e+00  0.00000000e+00\n",
      "  0.00000000e+00  0.00000000e+00 -1.00000000e+01  0.00000000e+00\n",
      "  1.00000000e+00 -0.00000000e+00 -0.00000000e+00 -4.37113883e-08\n",
      "  0.00000000e+00  0.00000000e+00  0.00000000e+00  0.00000000e+00\n",
      "  0.00000000e+00  0.00000000e+00  5.75471878e+00 -1.00000000e+00\n",
      "  5.55726624e+00  0.00000000e+00  1.00000000e+00  0.00000000e+00\n",
      " -1.68164849e-01]\n"
     ]
    }
   ],
   "source": [
    "# reset the environment\n",
    "env_info = env.reset(train_mode=True)[brain_name]\n",
    "\n",
    "# number of agents\n",
    "num_agents = len(env_info.agents)\n",
    "print('Number of agents:', num_agents)\n",
    "\n",
    "# size of each action\n",
    "action_size = brain.vector_action_space_size\n",
    "print('Size of each action:', action_size)\n",
    "\n",
    "# examine the state space \n",
    "states = env_info.vector_observations\n",
    "print('States is of type: ', type(states))\n",
    "state_size = states.shape[1]\n",
    "print('There are {} agents. Each observes a state with length: {}'.format(states.shape[0], state_size))\n",
    "print('The state for the first agent looks like:', states[0])"
   ]
  },
  {
   "cell_type": "markdown",
   "metadata": {},
   "source": [
    "### 3. Take Random Actions in the Environment\n",
    "\n",
    "In the next code cell, you will learn how to use the Python API to control the agent and receive feedback from the environment.\n",
    "\n",
    "Once this cell is executed, you will watch the agent's performance, if it selects an action at random with each time step.  A window should pop up that allows you to observe the agent, as it moves through the environment.  \n",
    "\n",
    "Of course, as part of the project, you'll have to change the code so that the agent is able to use its experience to gradually choose better actions when interacting with the environment!"
   ]
  },
  {
   "cell_type": "code",
   "execution_count": 5,
   "metadata": {},
   "outputs": [
    {
     "name": "stdout",
     "output_type": "stream",
     "text": [
      "Step: 1001\tAveraged score: 0.11\n",
      "Average score (random actions) for this episode: 0.11 (Min score: 0.00, Max score: 0.76, Score std: 0.18)\n"
     ]
    }
   ],
   "source": [
    "env_info = env.reset(train_mode=False)[brain_name]     # reset the environment    \n",
    "states = env_info.vector_observations                  # get the current state (for each agent)\n",
    "scores = np.zeros(num_agents)                          # initialize the score (for each agent)\n",
    "step = 0\n",
    "while True:\n",
    "    step += 1\n",
    "    actions = np.random.randn(num_agents, action_size) # select an action (for each agent)\n",
    "    actions = np.clip(actions, -1, 1)                  # all actions between -1 and 1\n",
    "    env_info = env.step(actions)[brain_name]           # send all actions to tne environment\n",
    "    next_states = env_info.vector_observations         # get next state (for each agent)\n",
    "    rewards = env_info.rewards                         # get reward (for each agent)\n",
    "    print('\\rStep: {}\\tAveraged score: {:.2f}'.format(step, np.mean(scores)), end=\"\")\n",
    "    dones = env_info.local_done                        # see if episode finished\n",
    "    states = next_states                               # roll over states to next time step\n",
    "    scores += env_info.rewards                         # update the score (for each agent)\n",
    "    if np.any(dones):                                  # exit loop if episode finished\n",
    "        break\n",
    "print('\\nAverage score (random actions) for this episode: {:.2f} (Min score: {:.2f}, Max score: {:.2f}, Score std: {:.2f})'.format(\n",
    "    np.mean(scores), np.min(scores), np.max(scores), np.std(scores)))"
   ]
  },
  {
   "cell_type": "markdown",
   "metadata": {},
   "source": [
    "When finished, you can close the environment."
   ]
  },
  {
   "cell_type": "markdown",
   "metadata": {},
   "source": [
    "```python\n",
    "env.close()\n",
    "```"
   ]
  },
  {
   "cell_type": "markdown",
   "metadata": {},
   "source": [
    "### 4. Train a Deep Deterministic Policy Gradients (DDPG) agent"
   ]
  },
  {
   "cell_type": "markdown",
   "metadata": {},
   "source": [
    "#### Below describes the network architectures of the Actor and Critic networks:\n",
    "```\n",
    "Actor network:\n",
    "----------------------------------------------------------------\n",
    "        Layer (type)               Output Shape         Param #\n",
    "================================================================\n",
    "            Linear-1                  [-1, 400]          13,600\n",
    "       BatchNorm1d-2                  [-1, 400]             800\n",
    "            Linear-3                  [-1, 300]         120,300\n",
    "            Linear-4                    [-1, 4]           1,204\n",
    "================================================================\n",
    "Total params: 135,904\n",
    "Trainable params: 135,904\n",
    "Non-trainable params: 0\n",
    "\n",
    "----------------------------------------------------------------\n",
    "\n",
    "Critic network:\n",
    "----------------------------------------------------------------\n",
    "        Layer (type)               Output Shape         Param #\n",
    "================================================================\n",
    "            Linear-1                  [-1, 400]          13,600\n",
    "       BatchNorm1d-2                  [-1, 400]             800\n",
    "            Linear-3                  [-1, 300]         121,500\n",
    "            Linear-4                    [-1, 1]             301\n",
    "================================================================\n",
    "Total params: 136,201\n",
    "Trainable params: 136,201\n",
    "Non-trainable params: 0\n",
    "```"
   ]
  },
  {
   "cell_type": "markdown",
   "metadata": {},
   "source": [
    "#### The hyperparameters are defined as follows:\n",
    "```\n",
    "BUFFER_SIZE = int(1e5)  # replay buffer size\n",
    "BATCH_SIZE = 1024       # minibatch size\n",
    "GAMMA = 0.99            # discount factor\n",
    "TAU = 1e-3              # for soft update of target parameters\n",
    "LR_ACTOR = 1e-3         # learning rate of the actor\n",
    "LR_CRITIC = 1e-3        # learning rate of the critic\n",
    "WEIGHT_DECAY = 0        # L2 weight decay\n",
    "TRAIN_EVERY = 5         # how often to train a batch\n",
    "TRAIN_STEPS = 3         # how many training steps when a batch is trained\n",
    "```"
   ]
  },
  {
   "cell_type": "markdown",
   "metadata": {},
   "source": [
    "#### Implementation tricks:\n",
    "At the very beginning I followed [Benchmark Implementation](https://classroom.udacity.com/nanodegrees/nd893/parts/286e7d2c-e00c-4146-a5f2-a490e0f23eda/modules/089d6d51-cae8-4d4b-84c6-9bbe58b8b869/lessons/5b822b1d-5c89-4fd5-9b52-a02ddcfd3385/concepts/59c1f0b0-589a-43a5-ae27-fcb7f5a25e08) to design the algorithm.\n",
    "\n",
    "Most of the advises are quite fruitful, except that I commented out the **Attempt 3** which restricts the norm of the gradients to 1 when updating the weights of the Critic network. Instead, I plugged in one `nn.BatchNorm1d` layer after the first `nn.Linear` layer for both Actor and Critic to reduce ill effects of the internal covariance shift within the networks. By such means I can increase the learning rate to 1e-3 for both networks to accelerate the training process.\n",
    "\n",
    "Also, I updated both networks 3 times after every 5 steps. By combining such efforts, I can achieve the goal that the agent is able to receive an average reward (over 100 episodes, and over all 20 agents) of at least 30.\n",
    "\n",
    "Furthermore, in order to deal with the exploration-exploitation trade-off, I introduced a value of $\\epsilon$ during training and the Ornstein–Uhlenbeck noise will be added to `actions` with probability $\\epsilon$. This is a strategy similar to $\\epsilon$-greedy policies. The probability $\\epsilon$ is decayed by 1e-5 per step until it reaches its lower bound 0.05."
   ]
  },
  {
   "cell_type": "markdown",
   "metadata": {},
   "source": [
    "#### 4.1 Define the training function and run"
   ]
  },
  {
   "cell_type": "code",
   "execution_count": 6,
   "metadata": {},
   "outputs": [],
   "source": [
    "def train_ddpg(env, agent, save_model_actor, save_model_critic,\n",
    "               n_episodes=2000, eps_start=1.0, eps_end=0.05, eps_decay=1e-5,\n",
    "               deque_len=100, print_every=20, finish_threshold=30.0):\n",
    "    \"\"\"Deep Deterministic Policy Gradients (DDPG)\n",
    "    \n",
    "    Params\n",
    "    ======\n",
    "        env: environment\n",
    "        agent: DDPG agent\n",
    "        save_model_actor: actor model filename for saving\n",
    "        save_model_critic: critic model filename for saving\n",
    "        n_episodes (int): maximum number of training episodes\n",
    "        eps_start (float): starting value of epsilon, for epsilon-greedy action selection\n",
    "        eps_end (float): minimum value of epsilon\n",
    "        eps_decay (float): subtractive factor (per step) for decreasing epsilon\n",
    "        deque_len (int): length of score deque\n",
    "        print_every (int): print a new line of scores after such number of episodes\n",
    "        finish_threshold (float): the training process will finish if the average score is larger than such threshold\n",
    "    \"\"\"\n",
    "    scores_deque = deque(maxlen=deque_len)\n",
    "    scores_min = []\n",
    "    scores_max = []\n",
    "    scores_mean = []\n",
    "    scores_std = []\n",
    "    scores_movingmean = []\n",
    "    eps = eps_start\n",
    "    for i_episode in range(1, n_episodes+1):\n",
    "        env_info = env.reset(train_mode=True)[brain_name]\n",
    "        states = env_info.vector_observations\n",
    "        agent.reset()\n",
    "        scores = np.zeros(num_agents)\n",
    "        step = 0\n",
    "        while True:\n",
    "            step += 1\n",
    "            use_noise = (random.random() <= eps)\n",
    "            actions = agent.act(states, add_noise=use_noise)\n",
    "            eps = max(eps - eps_decay, eps_end)\n",
    "            # actions = np.clip(actions, -1, 1)  # has done by agent.act\n",
    "            env_info = env.step(actions)[brain_name]\n",
    "            next_states = env_info.vector_observations\n",
    "            rewards = env_info.rewards\n",
    "            dones = env_info.local_done\n",
    "            agent.step(states, actions, rewards, next_states, dones)\n",
    "            states = next_states\n",
    "            scores += rewards\n",
    "            if np.any(dones):\n",
    "                break \n",
    "        scores_deque.append(scores)\n",
    "        scores_min.append(np.min(scores))\n",
    "        scores_max.append(np.max(scores))\n",
    "        scores_mean.append(np.mean(scores))\n",
    "        scores_std.append(np.std(scores))\n",
    "        scores_movingmean.append(np.mean(scores_deque))\n",
    "        print('\\rEpisode {}:\\tMoving average score: {:.2f}\\tMean score: {:.2f} (Min score: {:.2f}, Max score: {:.2f}, Score std: {:.2f})'.format(\n",
    "            i_episode, scores_movingmean[-1], scores_mean[-1], scores_min[-1], scores_max[-1], scores_std[-1]), end=\"\")\n",
    "        if i_episode % print_every == 0:\n",
    "            print('\\rEpisode {}:\\tMoving average score: {:.2f}'.format(i_episode, scores_movingmean[-1]))  \n",
    "        if scores_movingmean[-1] >= finish_threshold:  # save the model\n",
    "            print('\\nEnvironment solved in {:d} episodes!\\tMoving average score: {:.2f}'.format(i_episode-deque_len, scores_movingmean[-1]))\n",
    "            torch.save(agent.actor_local.state_dict(), save_model_actor)\n",
    "            torch.save(agent.critic_local.state_dict(), save_model_critic)\n",
    "            break\n",
    "             \n",
    "    return scores_mean, scores_movingmean"
   ]
  },
  {
   "cell_type": "code",
   "execution_count": 7,
   "metadata": {},
   "outputs": [
    {
     "name": "stdout",
     "output_type": "stream",
     "text": [
      "Actor network:\n",
      "----------------------------------------------------------------\n",
      "        Layer (type)               Output Shape         Param #\n",
      "================================================================\n",
      "            Linear-1                  [-1, 400]          13,600\n",
      "       BatchNorm1d-2                  [-1, 400]             800\n",
      "            Linear-3                  [-1, 300]         120,300\n",
      "            Linear-4                    [-1, 4]           1,204\n",
      "================================================================\n",
      "Total params: 135,904\n",
      "Trainable params: 135,904\n",
      "Non-trainable params: 0\n",
      "----------------------------------------------------------------\n",
      "Input size (MB): 0.00\n",
      "Forward/backward pass size (MB): 0.01\n",
      "Params size (MB): 0.52\n",
      "Estimated Total Size (MB): 0.53\n",
      "----------------------------------------------------------------\n",
      "\n",
      "Critic network:\n",
      "----------------------------------------------------------------\n",
      "        Layer (type)               Output Shape         Param #\n",
      "================================================================\n",
      "            Linear-1                  [-1, 400]          13,600\n",
      "       BatchNorm1d-2                  [-1, 400]             800\n",
      "            Linear-3                  [-1, 300]         121,500\n",
      "            Linear-4                    [-1, 1]             301\n",
      "================================================================\n",
      "Total params: 136,201\n",
      "Trainable params: 136,201\n",
      "Non-trainable params: 0\n",
      "----------------------------------------------------------------\n",
      "Input size (MB): 0.00\n",
      "Forward/backward pass size (MB): 0.01\n",
      "Params size (MB): 0.52\n",
      "Estimated Total Size (MB): 0.53\n",
      "----------------------------------------------------------------\n",
      "Episode 20:\tMoving average score: 2.80\tMean score: 9.53 (Min score: 4.66, Max score: 26.56, Score std: 5.20)\n",
      "Episode 40:\tMoving average score: 9.88\tMean score: 32.62 (Min score: 26.89, Max score: 37.92, Score std: 3.50)\n",
      "Episode 60:\tMoving average score: 18.74\tMean score: 38.42 (Min score: 36.84, Max score: 39.59, Score std: 0.72)\n",
      "Episode 80:\tMoving average score: 23.46\tMean score: 38.76 (Min score: 35.84, Max score: 39.58, Score std: 0.92)\n",
      "Episode 100:\tMoving average score: 26.34\tMean score: 38.79 (Min score: 36.36, Max score: 39.65, Score std: 0.83)\n",
      "Episode 110:\tMoving average score: 30.05\tMean score: 37.81 (Min score: 33.40, Max score: 39.56, Score std: 1.57)\n",
      "Environment solved in 10 episodes!\tMoving average score: 30.05\n"
     ]
    }
   ],
   "source": [
    "from ddpg_agent import Agent\n",
    "\n",
    "agent = Agent(num_agents, state_size, action_size, random_seed=0)\n",
    "\n",
    "# print the network summary\n",
    "print('Actor network:')\n",
    "summary(agent.actor_local, (state_size,))\n",
    "print('\\nCritic network:')\n",
    "summary(agent.critic_local, [(state_size,), (action_size,)])\n",
    "\n",
    "scores_mean, scores_movingmean = train_ddpg(env, agent, 'model_actor_ddpg.pt', 'model_critic_ddpg.pt')"
   ]
  },
  {
   "cell_type": "markdown",
   "metadata": {},
   "source": [
    "#### 4.2. Plot the training score curve"
   ]
  },
  {
   "cell_type": "code",
   "execution_count": 8,
   "metadata": {},
   "outputs": [
    {
     "data": {
      "image/png": "[encoded data removed]",
      "text/plain": [
       "<Figure size 432x288 with 1 Axes>"
      ]
     },
     "metadata": {
      "needs_background": "light"
     },
     "output_type": "display_data"
    }
   ],
   "source": [
    "plt.figure()\n",
    "plt.plot(np.arange(1, len(scores_mean)+1), scores_mean,\n",
    "         label='average scores')\n",
    "plt.plot(np.arange(1, len(scores_movingmean)+1), scores_movingmean,\n",
    "         label='moving average scores')\n",
    "plt.legend()\n",
    "plt.ylabel('Score')\n",
    "plt.xlabel('Episode #')\n",
    "plt.title('Deep Deterministic Policy Gradients (DDPG)')\n",
    "plt.show()"
   ]
  },
  {
   "cell_type": "markdown",
   "metadata": {},
   "source": [
    "#### 4.3. Test the trained DDPG agent"
   ]
  },
  {
   "cell_type": "code",
   "execution_count": 9,
   "metadata": {},
   "outputs": [
    {
     "name": "stdout",
     "output_type": "stream",
     "text": [
      "Step: 1001\tAverage score: 36.61\n",
      "Average score (after DDPG learning) for this episode: 36.65 (Min score: 32.03, Max score: 39.66, Score std: 2.47)\n"
     ]
    }
   ],
   "source": [
    "# load the weights from the saved checkpoint files\n",
    "agent.actor_local.load_state_dict(torch.load('model_actor_ddpg.pt'))\n",
    "agent.critic_local.load_state_dict(torch.load('model_critic_ddpg.pt'))\n",
    "\n",
    "# test the trained agent\n",
    "env_info = env.reset(train_mode=False)[brain_name]  \n",
    "states = env_info.vector_observations\n",
    "scores = np.zeros(num_agents)\n",
    "step = 0\n",
    "while True:\n",
    "    step += 1\n",
    "    actions = agent.act(states, add_noise=False)\n",
    "    env_info = env.step(actions)[brain_name]\n",
    "    next_states = env_info.vector_observations\n",
    "    rewards = env_info.rewards\n",
    "    print('\\rStep: {}\\tAverage score: {:.2f}'.format(step, np.mean(scores)), end=\"\")\n",
    "    dones = env_info.local_done\n",
    "    states = next_states\n",
    "    scores += env_info.rewards\n",
    "    if np.any(dones):\n",
    "        break\n",
    "print('\\nAverage score (after DDPG learning) for this episode: {:.2f} (Min score: {:.2f}, Max score: {:.2f}, Score std: {:.2f})'.format(\n",
    "    np.mean(scores), np.min(scores), np.max(scores), np.std(scores)))"
   ]
  },
  {
   "cell_type": "markdown",
   "metadata": {},
   "source": [
    "### 5. Close the environment"
   ]
  },
  {
   "cell_type": "code",
   "execution_count": 10,
   "metadata": {},
   "outputs": [],
   "source": [
    "env.close()"
   ]
  },
  {
   "cell_type": "markdown",
   "metadata": {},
   "source": [
    "### 6. Ideas for Future Work\n",
    "In order to further improve the overall rewards of the agent and the stability of the training process, some other methods could be introduced to amend or replace the current implementations.\n",
    "\n",
    "1. Instead of using the vanilla experience replay buffer, one can use prioritized experience replay buffer.\n",
    "\n",
    "\n",
    "2. Other policy gradient methods like Proximal Policy Optimization (PPO), Trust Region Policy Optimization (TRPO), Truncated Natural Policy Gradient (TNPG) may achieve better performance for continuous control tasks."
   ]
  }
 ],
 "metadata": {
  "kernelspec": {
   "display_name": "Python 3",
   "language": "python",
   "name": "python3"
  },
  "language_info": {
   "codemirror_mode": {
    "name": "ipython",
    "version": 3
   },
   "file_extension": ".py",
   "mimetype": "text/x-python",
   "name": "python",
   "nbconvert_exporter": "python",
   "pygments_lexer": "ipython3",
   "version": "3.6.10"
  }
 },
 "nbformat": 4,
 "nbformat_minor": 2
}
